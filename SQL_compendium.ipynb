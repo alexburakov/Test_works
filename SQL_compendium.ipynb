{
  "nbformat": 4,
  "nbformat_minor": 0,
  "metadata": {
    "colab": {
      "name": "SQL-compendium.ipynb",
      "provenance": [],
      "collapsed_sections": [
        "oqCrO_6Sqet-",
        "rNL3b57mqpQd"
      ],
      "toc_visible": true,
      "authorship_tag": "ABX9TyN/l5O2kQUjEIraTPtEwvnN",
      "include_colab_link": true
    },
    "kernelspec": {
      "name": "python3",
      "display_name": "Python 3"
    }
  },
  "cells": [
    {
      "cell_type": "markdown",
      "metadata": {
        "id": "view-in-github",
        "colab_type": "text"
      },
      "source": [
        "<a href=\"https://colab.research.google.com/github/alexburakov/Test_works/blob/main/SQL_compendium.ipynb\" target=\"_parent\"><img src=\"https://colab.research.google.com/assets/colab-badge.svg\" alt=\"Open In Colab\"/></a>"
      ]
    },
    {
      "cell_type": "markdown",
      "metadata": {
        "id": "oqCrO_6Sqet-"
      },
      "source": [
        "#Загрузка из Google docs"
      ]
    },
    {
      "cell_type": "code",
      "metadata": {
        "id": "DsUy_oW8MKHw",
        "colab": {
          "base_uri": "https://localhost:8080/"
        },
        "outputId": "d72acfff-c034-4148-b5e9-ec44b1c29e25"
      },
      "source": [
        "#Загрузка файлов из Google-docs\n",
        "!gdown --id 18ln2OUj3mB1U6l65fdHOtP-7ZzMzJ6Ms\n",
        "!gdown --id 1zJn51UnLPBMlPyG4mNNKcu-Vs5QP34IN"
      ],
      "execution_count": null,
      "outputs": [
        {
          "output_type": "stream",
          "text": [
            "Downloading...\n",
            "From: https://drive.google.com/uc?id=18ln2OUj3mB1U6l65fdHOtP-7ZzMzJ6Ms\n",
            "To: /content/doc_reports_sample.csv\n",
            "100% 1.60M/1.60M [00:00<00:00, 47.5MB/s]\n",
            "Downloading...\n",
            "From: https://drive.google.com/uc?id=1zJn51UnLPBMlPyG4mNNKcu-Vs5QP34IN\n",
            "To: /content/face_reports_sample.csv\n",
            "100% 700k/700k [00:00<00:00, 46.8MB/s]\n"
          ],
          "name": "stdout"
        }
      ]
    },
    {
      "cell_type": "code",
      "metadata": {
        "id": "YHnT_AQ8MRlt",
        "colab": {
          "base_uri": "https://localhost:8080/",
          "height": 181
        },
        "outputId": "9ab6a119-93fc-4d99-8424-9b7a7180707f"
      },
      "source": [
        "doc = pd.read_csv('/content/doc_reports_sample.csv')\n",
        "face = pd.read_csv('/content/face_reports_sample.csv')"
      ],
      "execution_count": null,
      "outputs": [
        {
          "output_type": "error",
          "ename": "NameError",
          "evalue": "ignored",
          "traceback": [
            "\u001b[0;31m---------------------------------------------------------------------------\u001b[0m",
            "\u001b[0;31mNameError\u001b[0m                                 Traceback (most recent call last)",
            "\u001b[0;32m<ipython-input-2-36008349572e>\u001b[0m in \u001b[0;36m<module>\u001b[0;34m()\u001b[0m\n\u001b[0;32m----> 1\u001b[0;31m \u001b[0mdoc\u001b[0m \u001b[0;34m=\u001b[0m \u001b[0mpd\u001b[0m\u001b[0;34m.\u001b[0m\u001b[0mread_csv\u001b[0m\u001b[0;34m(\u001b[0m\u001b[0;34m'/content/doc_reports_sample.csv'\u001b[0m\u001b[0;34m)\u001b[0m\u001b[0;34m\u001b[0m\u001b[0;34m\u001b[0m\u001b[0m\n\u001b[0m\u001b[1;32m      2\u001b[0m \u001b[0mface\u001b[0m \u001b[0;34m=\u001b[0m \u001b[0mpd\u001b[0m\u001b[0;34m.\u001b[0m\u001b[0mread_csv\u001b[0m\u001b[0;34m(\u001b[0m\u001b[0;34m'/content/face_reports_sample.csv'\u001b[0m\u001b[0;34m)\u001b[0m\u001b[0;34m\u001b[0m\u001b[0;34m\u001b[0m\u001b[0m\n",
            "\u001b[0;31mNameError\u001b[0m: name 'pd' is not defined"
          ]
        }
      ]
    },
    {
      "cell_type": "markdown",
      "metadata": {
        "id": "rNL3b57mqpQd"
      },
      "source": [
        "#Подготовка SQLite"
      ]
    },
    {
      "cell_type": "code",
      "metadata": {
        "colab": {
          "base_uri": "https://localhost:8080/",
          "height": 37
        },
        "id": "WIwtV2vm9Z1A",
        "outputId": "b6d6450e-93b2-4f56-9af4-84928b7852af"
      },
      "source": [
        "import numpy as np\n",
        "import pandas as pd\n",
        "import sqlite3\n",
        "sqlite3.sqlite_version"
      ],
      "execution_count": null,
      "outputs": [
        {
          "output_type": "execute_result",
          "data": {
            "application/vnd.google.colaboratory.intrinsic+json": {
              "type": "string"
            },
            "text/plain": [
              "'3.22.0'"
            ]
          },
          "metadata": {
            "tags": []
          },
          "execution_count": 20
        }
      ]
    },
    {
      "cell_type": "code",
      "metadata": {
        "id": "r6jQafJP0vSD"
      },
      "source": [
        "con = sqlite3.connect(\"db\")"
      ],
      "execution_count": null,
      "outputs": []
    },
    {
      "cell_type": "code",
      "metadata": {
        "id": "hieMqRYg_rKh"
      },
      "source": [
        "df=pd.DataFrame(data={'col1': [1, 2], 'col2': [3, 4]})"
      ],
      "execution_count": null,
      "outputs": []
    },
    {
      "cell_type": "code",
      "metadata": {
        "id": "ggHQUko8_jb8"
      },
      "source": [
        "df.to_sql('test', con, index=False, if_exists='replace')"
      ],
      "execution_count": null,
      "outputs": []
    },
    {
      "cell_type": "code",
      "metadata": {
        "id": "zdGZsPYgq_-4"
      },
      "source": [
        ""
      ],
      "execution_count": null,
      "outputs": []
    },
    {
      "cell_type": "code",
      "metadata": {
        "id": "9rmNTaYZq_7i"
      },
      "source": [
        ""
      ],
      "execution_count": null,
      "outputs": []
    },
    {
      "cell_type": "code",
      "metadata": {
        "colab": {
          "base_uri": "https://localhost:8080/",
          "height": 111
        },
        "id": "J20FwLXNAX6X",
        "outputId": "9002f457-fc12-4b08-e509-fc25ebfb6f9f"
      },
      "source": [
        "sql = \"\"\"\n",
        "\n",
        "SELECT * FROM test\n",
        "\n",
        "      \"\"\"\n",
        "pd.read_sql(sql,con)"
      ],
      "execution_count": null,
      "outputs": [
        {
          "output_type": "execute_result",
          "data": {
            "text/html": [
              "<div>\n",
              "<style scoped>\n",
              "    .dataframe tbody tr th:only-of-type {\n",
              "        vertical-align: middle;\n",
              "    }\n",
              "\n",
              "    .dataframe tbody tr th {\n",
              "        vertical-align: top;\n",
              "    }\n",
              "\n",
              "    .dataframe thead th {\n",
              "        text-align: right;\n",
              "    }\n",
              "</style>\n",
              "<table border=\"1\" class=\"dataframe\">\n",
              "  <thead>\n",
              "    <tr style=\"text-align: right;\">\n",
              "      <th></th>\n",
              "      <th>col1</th>\n",
              "      <th>col2</th>\n",
              "    </tr>\n",
              "  </thead>\n",
              "  <tbody>\n",
              "    <tr>\n",
              "      <th>0</th>\n",
              "      <td>1</td>\n",
              "      <td>3</td>\n",
              "    </tr>\n",
              "    <tr>\n",
              "      <th>1</th>\n",
              "      <td>2</td>\n",
              "      <td>4</td>\n",
              "    </tr>\n",
              "  </tbody>\n",
              "</table>\n",
              "</div>"
            ],
            "text/plain": [
              "   col1  col2\n",
              "0     1     3\n",
              "1     2     4"
            ]
          },
          "metadata": {
            "tags": []
          },
          "execution_count": 26
        }
      ]
    },
    {
      "cell_type": "markdown",
      "metadata": {
        "id": "HO0giAbfrJaM"
      },
      "source": [
        "#SQL Конспект"
      ]
    },
    {
      "cell_type": "markdown",
      "metadata": {
        "id": "kfjJk0H3tBl6"
      },
      "source": [
        "### Простой запрос"
      ]
    },
    {
      "cell_type": "code",
      "metadata": {
        "id": "I6csgrAOrzT5"
      },
      "source": [
        "SELECT DISTINCT col1, col2*2, col3+col4, \"col_txt\"\n",
        "FROM table\n",
        "WHERE (col1 = \"sample\" OR col2 = \"sample\") NOT IN (\"sample-b\",\"sample-b\")\n",
        ";\n",
        "# Выборка строк\n",
        "# Distinct — вернутся только уникальные строки"
      ],
      "execution_count": null,
      "outputs": []
    },
    {
      "cell_type": "markdown",
      "metadata": {
        "id": "-q27dyzptjSg"
      },
      "source": [
        "###Обьединения UNION"
      ]
    },
    {
      "cell_type": "code",
      "metadata": {
        "id": "1QlXnROUt4bK"
      },
      "source": [
        "SELECT * FROM t1\n",
        "UNION [ALL]\n",
        "SELECT * FROM t2\n",
        "\n",
        "# 'Склейка таблиц' [не только уникальные значения]"
      ],
      "execution_count": null,
      "outputs": []
    },
    {
      "cell_type": "markdown",
      "metadata": {
        "id": "I3oA7cH0uWDz"
      },
      "source": [
        "### Пересечение INTERSECT/EXCEPT "
      ]
    },
    {
      "cell_type": "code",
      "metadata": {
        "id": "P7n4nghBugb2"
      },
      "source": [
        "SELECT name FROM t1\n",
        "INTERSECT [ALL] | EXCEPT [ALL]\n",
        "SELECT kind FROM t2\n",
        "\n",
        "# Вернет строки присутствующие в обоих запросах [INTERSECT]\n",
        "# или строки первого запроса, отсутствующие во втором [EXCEPT]"
      ],
      "execution_count": null,
      "outputs": []
    },
    {
      "cell_type": "markdown",
      "metadata": {
        "id": "pDo2RNeTthBb"
      },
      "source": [
        "### JOIN"
      ]
    },
    {
      "cell_type": "code",
      "metadata": {
        "id": "Rd02bVCnumH2"
      },
      "source": [
        "FROM tab1 [INNER] {{LEFT | RIGHT | FULL} [OUTER]} JOIN tab2 [ON <предикат>]"
      ],
      "execution_count": null,
      "outputs": []
    },
    {
      "cell_type": "markdown",
      "metadata": {
        "id": "Kif73HKg3QKw"
      },
      "source": [
        "### Агрегатные функции"
      ]
    },
    {
      "cell_type": "code",
      "metadata": {
        "id": "y-eB99Ty3Pmi"
      },
      "source": [
        "SELECT  COUN(col1),\n",
        "        SUM(col2),\n",
        "        AVG(col3),\n",
        "        MIN(col4),\n",
        "        MAX(col5),\n",
        "FROM t1"
      ],
      "execution_count": null,
      "outputs": []
    },
    {
      "cell_type": "markdown",
      "metadata": {
        "id": "obMatc8x4thr"
      },
      "source": [
        "### Подзапросы"
      ]
    },
    {
      "cell_type": "code",
      "metadata": {
        "id": "OwJjK5_f4xDS"
      },
      "source": [
        "SELECT (SELECT AVG(price) FROM Laptop) - (SELECT AVG(price) FROM PC) AS dif_price;\n",
        "# Подзапросы в SELECT (вычисляет разницу средней цены лептопа и ПК)"
      ],
      "execution_count": null,
      "outputs": []
    },
    {
      "cell_type": "markdown",
      "metadata": {
        "id": "5kWFvFg8_FhY"
      },
      "source": [
        "### GROUP BY"
      ]
    },
    {
      "cell_type": "code",
      "metadata": {
        "id": "IlEXk2Ld_H15"
      },
      "source": [
        "select col1\n",
        "from t1\n",
        "group by col12\n",
        "having count(col12) >=2\n",
        "# агрегатная функция может быть в блоке having (where?) !!!без элиаса!!!!"
      ],
      "execution_count": null,
      "outputs": []
    },
    {
      "cell_type": "code",
      "metadata": {
        "id": "eYTBFO8T_wMM"
      },
      "source": [
        "1. FROM\n",
        "2. WHERE\n",
        "3. GROUP BY\n",
        "4. HAVING\n",
        "5. SELECT\n",
        "6. ORDER BY"
      ],
      "execution_count": null,
      "outputs": []
    }
  ]
}