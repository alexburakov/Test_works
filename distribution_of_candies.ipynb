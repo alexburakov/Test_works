{
 "cells": [
  {
   "cell_type": "markdown",
   "metadata": {},
   "source": [
    "# Задача"
   ]
  },
  {
   "cell_type": "markdown",
   "metadata": {},
   "source": [
    "У вас есть список конфет разных видов, вам нужно собрать одинаковые наборы для своих друзей. Какому максимальному числу друзей вы сможете собрать наборы так, чтобы раздарить все конфеты?\n",
    "\n",
    "Реализуйте на Python функцию, которая принимает на вход список конфет и возвращает максимальное число друзей:\n",
    "\n",
    "ТЕСТ: ['a', 'b', 'c'] ОТВЕТ:1\n",
    "\n",
    "ТЕСТ: ['a', 'b', 'c', 'a', 'b', 'c', 'd'] ОТВЕТ:1\n",
    "\n",
    "ТЕСТ: ['a', 'b', 'c', 'a', 'b', 'c'] ОТВЕТ:2"
   ]
  },
  {
   "cell_type": "markdown",
   "metadata": {},
   "source": [
    "# Решение"
   ]
  },
  {
   "cell_type": "markdown",
   "metadata": {},
   "source": [
    "## 1 Вариант\n",
    "\n",
    "Используем функцию gcd() из math, а так же функцию reduse() библиотеки functools.\n",
    "\n",
    "(Из недостатков, нужно импортировать библиотеки, а они могут быть недоступны)"
   ]
  },
  {
   "cell_type": "code",
   "execution_count": 5,
   "metadata": {},
   "outputs": [],
   "source": [
    "from math import gcd\n",
    "from functools import reduce\n",
    "\n",
    "def max_friends_v1(confetionary_list):\n",
    "    #\n",
    "    # Из списка формируем словарь с видами конфет и их кол-вом, затем находим НОД,\n",
    "    # он и определяет максимальное количество наборов, которые можно сформировать\n",
    "    #   \n",
    "    elem = {}\n",
    "    for i in confetionary_list:\n",
    "        elem[i] = elem.get(i, 0) + 1\n",
    "        \n",
    "    return reduce(gcd, list(elem.values()))"
   ]
  },
  {
   "cell_type": "markdown",
   "metadata": {},
   "source": [
    "## 2 Вариант\n",
    "\n",
    "Сами пишем функцию нахождения НОД и итерируемся по итоговой последовательности"
   ]
  },
  {
   "cell_type": "code",
   "execution_count": 6,
   "metadata": {},
   "outputs": [],
   "source": [
    "def max_friends_v2(confetionary_list):\n",
    "    #\n",
    "    # Пишем функцию нахождения НОД для двух чисел\n",
    "    #\n",
    "    def gcd(a,b):\n",
    "        if b == 0:\n",
    "            return a\n",
    "        else:\n",
    "            return gcd(b,a % b)\n",
    "    #\n",
    "    # Из списка формируем словарь с видами конфет и их кол-вом\n",
    "    #\n",
    "    types_candys = {}\n",
    "    for elem in confetionary_list:\n",
    "        types_candys[elem] = types_candys.get(elem, 0) + 1\n",
    "    #\n",
    "    # Находим НОД для значений словаря\n",
    "    #\n",
    "    gcd_for_list = list(types_candys.values())[0]\n",
    "    for i in list(types_candys.values())[1:]:\n",
    "        gcd_for_list = gcd(gcd_for_list , i)\n",
    "    \n",
    "    return gcd_for_list"
   ]
  }
 ],
 "metadata": {
  "kernelspec": {
   "display_name": "Python 3",
   "language": "python",
   "name": "python3"
  },
  "language_info": {
   "codemirror_mode": {
    "name": "ipython",
    "version": 3
   },
   "file_extension": ".py",
   "mimetype": "text/x-python",
   "name": "python",
   "nbconvert_exporter": "python",
   "pygments_lexer": "ipython3",
   "version": "3.7.3"
  }
 },
 "nbformat": 4,
 "nbformat_minor": 4
}
